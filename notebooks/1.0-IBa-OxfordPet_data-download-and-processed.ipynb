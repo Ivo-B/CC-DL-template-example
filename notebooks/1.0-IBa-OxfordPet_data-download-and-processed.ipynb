{
 "cells": [
  {
   "cell_type": "code",
   "execution_count": 6,
   "id": "143199cd",
   "metadata": {},
   "outputs": [],
   "source": [
    "\"\"\"Oxford Pet handwritten digits dataset.\n",
    "\n",
    "\"\"\"\n",
    "import os\n",
    "from pathlib import Path\n",
    "from dotenv import find_dotenv, load_dotenv\n",
    "import numpy as np\n",
    "from keras.utils.data_utils import get_file\n",
    "\n",
    "# find .env automagically by walking up directories until it's found, then\n",
    "# load up the .env entries as environment variables\n",
    "load_dotenv(find_dotenv())\n",
    "path = Path(os.environ.get('PROJECT_DIR')) / 'data' / 'raw' / 'oxford-pet'\n",
    "os.makedirs(path, exist_ok=True)\n",
    "\n",
    "origin_folder = 'http://www.robots.ox.ac.uk/~vgg/data/pets/data/'\n",
    "images_download = get_file(\n",
    "    path / 'images.tar.gz',\n",
    "    cache_dir=Path(os.environ.get('PROJECT_DIR')) / 'data' / 'raw',\n",
    "    cache_subdir='oxford-pet',\n",
    "    extract=True,\n",
    "    origin=origin_folder + 'images.tar.gz',\n",
    ")\n",
    "os.remove(path / 'images.tar.gz')"
   ]
  },
  {
   "cell_type": "code",
   "execution_count": 7,
   "outputs": [
    {
     "name": "stdout",
     "output_type": "stream",
     "text": [
      "Downloading data from http://www.robots.ox.ac.uk/~vgg/data/pets/data/annotations.tar.gz\n",
      "19177472/19173078 [==============================] - 2s 0us/step\b\b\b\b\b\b\b\b\b\b\b\b\b\b\b\b\b\b\b\b\b\b\b\b\b\b\b\b\b\b\b\b\b\b\b\b\b\b\b\b\b\b\b\b\b\b\b\b\b\b\b\b\b\b\b\b\b\b\b\b\b\b\b\b\b\b\b\b\b\b\b\b\b\b\b\b\b\b\b\b\b\b\b\b\b\b\b\b\b\b\b\b\b\b\b\b\b\b\b\b\b\b\b\b\b\b\b\b\b\b\b\b\b\b\b\b\b\b\b\b\b\b\b\b\b\b\b\b\b\b\b\b\b\b\b\b\b\b\b\b\b\b\b\b\b\b\b\b\b\b\b\b\b\b\b\b\b\b\b\b\b\b\b\b\b\b\b\b\b\b\b\b\b\b\b\b\b\b\b\b\b\b\b\b\b\b\b\b\b\b\b\b\b\b\b\b\b\b\b\b\b\b\b\b\b\b\b\b\b\b\b\b\b\b\b\b\b\b\b\b\b\b\b\b\b\b\b\b\b\b\b\b\b\b\b\b\b\b\b\b\b\b\b\b\b\b\b\b\b\b\b\b\b\b\b\b\b\b\b\b\b\b\b\b\b\b\b\b\b\b\b\b\b\b\b\b\b\b\b\b\b\b\b\b\b\b\b\b\b\b\b\b\b\b\b\b\b\b\b\b\b\b\b\b\b\b\b\b\b\b\b\b\b\b\b\b\b\b\b\b\b\b\b\b\b\b\b\b\b\b\b\b\b\b\b\b\b\b\b\b\b\b\b\b\b\b\b\b\b\b\b\b\b\b\b\b\b\b\b\b\b\b\b\b\b\b\b\b\b\b\b\b\b\b\b\b\b\b\b\b\b\b\b\b\b\b\b\b\b\b\b\b\b\b\b\b\b\b\b\b\b\b\b\b\b\b\b\b\b\b\b\b\b\b\b\b\b\b\b\b\b\b\b\b\b\b\b\b\b\b\b\b\b\b\b\b\b\b\b\b\b\b\b\b\b\b\b\b\b\b\b\b\b\b\b\b\b\b\b\b\b\b\b\b\b\b\b\b\b\b\b\b\b\b\b\b\b\b\b\b\b\b\b\b\b\b\b\b\b\b\b\b\b\b\b\b\b\b\b\b\b\b\b\b\b\b\b\b\b\b\b\b\b\b\b\b\b\b\b\b\b\b\b\b\b\b\b\b\b\b\b\b\b\b\b\b\b\b\b\b\b\b\b\b\b\b\b\b\b\b\b\b\b\b\b\b\b\b\b\b\b\b\b\b\b\b\b\b\b\b\b\b\b\b\b\b\b\b\b\b\b\b\b\b\b\b\b\b\b\b\b\b\b\b\b\b\b\b\b\b\b\b\b\b\b\b\b\b\b\b\b\b\b\b\b\b\b\b\b\b\b\b\b\b\b\b\b\b\b\b\b\b\b\b\b\b\b\b\b\b\b\b\b\b\b\b\b\b\b\b\b\b\b\b\b\b\b\b\b\b\b\b\b\b\b\b\b\b\b\b\b\b\b\b\b\b\b\b\b\b\b\b\b\b\b\b\b\b\b\b\b\b\b\b\b\b\b\b\b\b\b\b\b\b\b\b\b\b\b\b\b\b\b\b\b\b\b\b\b\b\b\b\b\b\b\b\b\b\b\b\b\b\b\b\b\b\b\b\b\b\b\b\b\b\b\b\b\b\b\b\b\b\b\b\b\b\b\b\b\b\b\b\b\b\b\b\b\b\b\b\b\b\b\b\b\b\b\b\b\b\b\b\b\b\b\b\b\b\b\b\b\b\b\b\b\b\b\b\b\b\b\b\b\b\b\b\b\b\b\b\b\b\b\b\b\b\b\b\b\b\b\b\b\b\b\b\b\b\b\b\b\b\b\b\b\b\b\b\b\b\b\b\b\b\b\b\b\b\b\b\b\b\b\b\b\b\b\b\b\b\b\b\b\b\b\b\b\b\b\b\b\b\b\b\b\b\b\b\b\b\b\b\b\b\b\b\b\b\b\b\b\b\b\b\b\b\b\b\b\b\b\b\b\b\b\b\b\b\b\b\b\b\b\b\b\b\b\b\b\b\b\b\b\b\b\b\b\b\b\b\b\b\b\b\b\b\b\b\b\b\b\b\b\b\b\b\b\b\b\b\b\b\b\b\b\b\b\b\b\b\b\b\b\b\b\b\b\b\b\b\b\b\b\b\b\b\b\b\b\b\b\b\b\b\b\b\b\b\b\b\b\b\b\b\b\b\b\b\b\b\b\b\b\b\b\b\b\b\b\b\b\b\b\b\b\b\b\b\b\b\b\b\b\b\b\b\b\b\b\b\b\b\b\b\b\b\b\b\b\b\b\b\b\b\b\b\b\b\b\b\b\b\b\b\b\b\b\b\b\b\b\b\b\b\b\b\b\b\b\b\b\b\b\b\b\b\b\b\b\b\b\b\b\b\b\b\b\b\b\b\b\b\b\b\b\b\b\b\b\b\b\b\b\b\b\b\b\b\b\b\b\b\b\b\b\b\b\b\b\b\b\b\b\b\b\b\b\b\b\b\b\b\b\b\b\b\b\b\b\b\b\b\b\b\b\b\b\b\b\b\b\b\b\b\b\b\b\b\b\b\b\b\b\b\b\b\b\b\b\b\b\b\b\b\b\b\b\b\b\b\b\b\b\b\b\b\b\b\b\b\b\b\b\b\b\b\b\b\b\b\b\b\b\b\b\b\b\b\b\b\b\b\b\b\b\b\b\b\b\b\b\b\b\b\b\b\b\b\b\b\b\b\b\b\b\b\b\b\b\b\b\b\b\b\b\b\b\b\b\b\b\b\b\b\b\b\b\b\b\b\b\b\b\b\b\b\b\b\b\b\b\b\b\b\b\b\b\b\b\b\b\b\b\b\b\b\b\b\b\b\b\b\b\b\b\b\b\b\b\b\b\b\b\b\b\b\b\b\b\b\b\b\b\b\b\b\b\b\b\b\b\b\b\b\b\b\b\b\b\b\b\b\b\b\b\b\b\b\b\b\b\b\b\b\b\b\b\b\b\b\b\b\b\b\b\b\b\b\b\b\b\b\b\b\b\b\b\b\b\b\b\b\b\b\b\b\b\b\b\b\b\b\b\b\b\b\b\b\b\b\b\b\b\b\b\b\b\b\b\b\b\b\b\b\b\b\b\b\b\b\b\b\b\b\b\b\b\b\b\b\b\b\b\b\b\b\b\b\b\b\b\b\b\b\b\b\b\b\b\b\b\b\b\b\b\b\b\b\b\b\b\b\b\b\b\b\b\b\b\b\b\b\b\b\b\b\b\b\b\b\b\b\b\b\b\b\b\b\b\b\b\b\b\b\b\b\b\b\b\b\b\b\b\b\b\b\b\b\b\b\b\b\b\b\b\b\b\b\b\b\b\b\b\b\b\b\b\b\b\b\b\b\b\b\b\b\b\b\b\b\b\b\b\b\b\b\b\b\b\b\b\b\b\b\b\b\b\b\b\b\b\b\b\b\b\b\b\b\b\b\b\b\b\b\b\b\b\b\b\b\b\b\b\b\b\b\b\b\b\b\b\b\b\b\b\b\b\b\b\b\b\b\b\b\b\b\b\b\b\b\b\b\b\b\b\b\b\b\b\b\b\b\b\b\b\b\b\b\b\b\b\b\b\b\b\b\b\b\b\b\b\b\b\b\b\b\b\b\b\b\b\b\b\b\b\b\b\b\b\b\b\b\b\b\b\b\b\b\b\b\b\b\b\b\b\b\b\b\b\b\b\b\b\b\b\b\b\b\b\b\b\b\b\b\b\b\b\b\b\b\b\b\b\b\b\b\b\b\b\b\b\b\b\b\b\b\b\b\b\b\b\b\b\b\b\b\b\b\b\b\b\b\b\b\b\b\b\b\b\b\b\b\b\b\b\b\b\b\b\b\b\b\b\b\b\b\b\b\b\b\b\b\b\b\b\b\b\b\b\b\b\b\b\b\b\b\b\b\b\b\b\b\b\b\b\b\b\b\b\b\b\b\b\b\b\b\b\b\b\b\b\b\b\b\b\b\b\b\b\b\b\n",
      "19185664/19173078 [==============================] - 2s 0us/step\n"
     ]
    }
   ],
   "source": [
    "annotations_download = get_file(\n",
    "    path / 'annotations.tar.gz',\n",
    "    cache_dir=Path(os.environ.get('PROJECT_DIR')) / 'data' / 'raw',\n",
    "    cache_subdir='oxford-pet',\n",
    "    extract=True,\n",
    "    origin=origin_folder + 'annotations.tar.gz',\n",
    ")\n",
    "os.remove(path / 'annotations.tar.gz')"
   ],
   "metadata": {
    "collapsed": false,
    "pycharm": {
     "name": "#%%\n"
    }
   }
  },
  {
   "cell_type": "code",
   "execution_count": 15,
   "id": "99c1057c",
   "metadata": {},
   "outputs": [],
   "source": [
    "path_download = path / 'annotations'\n",
    "all_data = []\n",
    "with open(path_download / 'list.txt', 'r') as images_list:\n",
    "    for line in images_list.readlines():\n",
    "        if '#' in line:\n",
    "            continue\n",
    "        image_name, label, species, _ = line.strip().split(' ')\n",
    "        trimaps_dir_path = os.path.join(path_download, 'trimaps')\n",
    "\n",
    "        label = int(label) - 1\n",
    "        species = int(species) - 1\n",
    "\n",
    "        trimap_name = image_name + '.png'\n",
    "        record = {\n",
    "            \"image\": os.path.join(path, 'images', image_name + '.jpg'),\n",
    "            \"label\": label,\n",
    "            \"species\": species,\n",
    "            \"file_name\": image_name,\n",
    "            \"segmentation_mask\": os.path.join(trimaps_dir_path, trimap_name)\n",
    "        }\n",
    "        all_data.append(record)"
   ]
  },
  {
   "cell_type": "code",
   "execution_count": 63,
   "id": "45ef6ce3",
   "metadata": {},
   "outputs": [],
   "source": [
    "from skimage import io\n",
    "from skimage.transform import resize\n",
    "path = Path(os.environ.get('PROJECT_DIR')) / 'data' / 'processed' / 'oxford-pet'\n",
    "os.makedirs(path, exist_ok=True)\n",
    "os.makedirs(path / 'images', exist_ok=True)\n",
    "os.makedirs(path / 'masks', exist_ok=True)\n",
    "\n",
    "for idx in range(len(all_data)):\n",
    "    # load\n",
    "    img = io.imread(all_data[idx]['image'])\n",
    "    img = img / 255\n",
    "    img = resize(img, (128, 128), order=1, anti_aliasing=True).astype(np.float32)\n",
    "    np.save(path / 'images' / f'{all_data[idx][\"file_name\"]}', img)\n",
    "\n",
    "    mask = io.imread(all_data[idx]['segmentation_mask'])\n",
    "    mask[mask == 2.0] = 0.0\n",
    "    mask[(mask == 1.0) | (mask == 3.0)] = 1.0\n",
    "    mask = resize(mask, (128, 128), order=0, preserve_range=True, anti_aliasing=False)\n",
    "    np.save(path / 'masks' / f'{all_data[idx][\"file_name\"]}', mask)\n"
   ]
  },
  {
   "cell_type": "code",
   "execution_count": 30,
   "id": "65aadd89",
   "metadata": {
    "pycharm": {
     "name": "#%%\n"
    }
   },
   "outputs": [],
   "source": [
    "all_x = []\n",
    "all_y = []\n",
    "for idx in range(len(all_data)):\n",
    "    all_x.append(all_data[idx][\"file_name\"])\n",
    "    all_y.append(all_data[idx][\"label\"])\n",
    "all_x = np.array(all_x)\n",
    "all_y = np.array(all_y)\n",
    "\n",
    "from sklearn.model_selection import StratifiedShuffleSplit\n",
    "sss = StratifiedShuffleSplit(n_splits=1, test_size=2204, random_state=42)\n",
    "for train_index, test_index in sss.split(all_x, all_y):\n",
    "    X_train_val, X_test = all_x[train_index], all_x[test_index]\n",
    "    y_train_val, y_test = all_y[train_index], all_y[test_index]\n"
   ]
  },
  {
   "cell_type": "code",
   "execution_count": 32,
   "outputs": [],
   "source": [
    "path = Path(os.environ.get('PROJECT_DIR')) / 'data'\n",
    "\n",
    "with open(path / 'OxfordPet_test_data.txt', 'a') as f:\n",
    "    for name, y in zip(X_test, y_test):\n",
    "        f.write(f\"{name}.npy, {y}\\n\")"
   ],
   "metadata": {
    "collapsed": false,
    "pycharm": {
     "name": "#%%\n"
    }
   }
  },
  {
   "cell_type": "code",
   "execution_count": 39,
   "outputs": [],
   "source": [
    "sss = StratifiedShuffleSplit(n_splits=1, test_size=514, random_state=42)\n",
    "for train_index, test_index in sss.split(X_train_val, y_train_val):\n",
    "    X_train, X_val = all_x[train_index], all_x[test_index]\n",
    "    y_train, y_val = all_y[train_index], all_y[test_index]\n"
   ],
   "metadata": {
    "collapsed": false,
    "pycharm": {
     "name": "#%%\n"
    }
   }
  },
  {
   "cell_type": "code",
   "execution_count": 40,
   "outputs": [],
   "source": [
    "with open(path / 'OxfordPet_training_data.txt', 'a') as f:\n",
    "    for name, y in zip(X_train, y_train):\n",
    "        f.write(f\"{name}.npy, {y}\\n\")"
   ],
   "metadata": {
    "collapsed": false,
    "pycharm": {
     "name": "#%%\n"
    }
   }
  },
  {
   "cell_type": "code",
   "execution_count": 42,
   "outputs": [],
   "source": [
    "with open(path / 'OxfordPet_validation_data.txt', 'a') as f:\n",
    "    for name, y in zip(X_val, y_val):\n",
    "        f.write(f\"{name}.npy, {y}\\n\")"
   ],
   "metadata": {
    "collapsed": false,
    "pycharm": {
     "name": "#%%\n"
    }
   }
  },
  {
   "cell_type": "code",
   "execution_count": null,
   "outputs": [],
   "source": [],
   "metadata": {
    "collapsed": false,
    "pycharm": {
     "name": "#%%\n"
    }
   }
  }
 ],
 "metadata": {
  "kernelspec": {
   "display_name": "Python 3 (ipykernel)",
   "language": "python",
   "name": "python3"
  },
  "language_info": {
   "codemirror_mode": {
    "name": "ipython",
    "version": 3
   },
   "file_extension": ".py",
   "mimetype": "text/x-python",
   "name": "python",
   "nbconvert_exporter": "python",
   "pygments_lexer": "ipython3",
   "version": "3.9.5"
  }
 },
 "nbformat": 4,
 "nbformat_minor": 5
}
