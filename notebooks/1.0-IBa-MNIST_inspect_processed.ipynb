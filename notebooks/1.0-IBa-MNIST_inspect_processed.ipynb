{
 "cells": [
  {
   "cell_type": "code",
   "execution_count": null,
   "id": "143199cd",
   "metadata": {
    "pycharm": {
     "name": "#%%\n"
    }
   },
   "outputs": [],
   "source": [
    "import os\n",
    "from pathlib import Path\n",
    "import matplotlib.pyplot as plt\n",
    "from mpl_toolkits.axes_grid1 import ImageGrid\n",
    "import numpy as np\n",
    "from dotenv import find_dotenv, load_dotenv\n",
    "\n",
    "load_dotenv(find_dotenv())\n",
    "\n",
    "def display_image_grid(images_filenames, images_directory, images_labels):\n",
    "    cols = 4\n",
    "    rows = int(np.floor(len(images_filenames) / cols))\n",
    "    figure = plt.figure(figsize=(24, 24))\n",
    "    grid = ImageGrid(figure, 111,\n",
    "                 nrows_ncols=(rows, cols),  # creates grid of axes\n",
    "                 axes_pad=(0.1, 0.3),  # pad between axes\n",
    "                 )\n",
    "\n",
    "    for ax, img_name, img_label in zip(grid, images_filenames, images_labels):\n",
    "        image = np.load(os.path.join(images_directory, img_name))\n",
    "        ax.imshow(image)\n",
    "        ax.set_title(f\"Label: {img_label}\")\n",
    "        ax.set_axis_off()\n",
    "\n",
    "    plt.tight_layout()\n",
    "    plt.show()"
   ]
  },
  {
   "cell_type": "code",
   "execution_count": null,
   "id": "06c8ea1c",
   "metadata": {
    "pycharm": {
     "name": "#%%\n"
    }
   },
   "outputs": [],
   "source": [
    "path = Path(os.environ.get('PROJECT_DIR')) / 'data'\n",
    "images_filenames = []\n",
    "images_labels = []\n",
    "with open(path / 'MNIST_training_data.txt', 'r') as file_stream:\n",
    "    for line in file_stream.readlines():\n",
    "        file_name, label = line.split(',')\n",
    "        images_filenames.append(file_name)\n",
    "        images_labels.append(int(label))\n",
    "        if len(images_filenames) >= 8:\n",
    "            break\n",
    "\n",
    "display_image_grid(images_filenames, path / 'processed/mnist', images_labels)"
   ]
  },
  {
   "cell_type": "code",
   "execution_count": null,
   "id": "9458ef2a",
   "metadata": {
    "pycharm": {
     "name": "#%%\n"
    }
   },
   "outputs": [],
   "source": [
    "path = Path(os.environ.get('PROJECT_DIR')) / 'data'\n",
    "images_filenames = []\n",
    "images_labels = []\n",
    "with open(path / 'MNIST_validation_data.txt', 'r') as file_stream:\n",
    "    for line in file_stream.readlines():\n",
    "        file_name, label = line.split(',')\n",
    "        images_filenames.append(file_name)\n",
    "        images_labels.append(int(label))\n",
    "        if len(images_filenames) >= 8:\n",
    "            break\n",
    "\n",
    "display_image_grid(images_filenames, path / 'processed/mnist', images_labels)"
   ]
  },
  {
   "cell_type": "code",
   "execution_count": null,
   "id": "b417c101",
   "metadata": {
    "pycharm": {
     "name": "#%%\n"
    }
   },
   "outputs": [],
   "source": [
    "path = Path(os.environ.get('PROJECT_DIR')) / 'data'\n",
    "images_filenames = []\n",
    "images_labels = []\n",
    "with open(path / 'MNIST_test_data.txt', 'r') as file_stream:\n",
    "    for line in file_stream.readlines():\n",
    "        file_name, label = line.split(',')\n",
    "        images_filenames.append(file_name)\n",
    "        images_labels.append(int(label))\n",
    "        if len(images_filenames) >= 8:\n",
    "            break\n",
    "\n",
    "display_image_grid(images_filenames, path / 'processed/mnist', images_labels)\n"
   ]
  }
 ],
 "metadata": {
  "kernelspec": {
   "display_name": "Python 3 (ipykernel)",
   "language": "python",
   "name": "python3"
  },
  "language_info": {
   "codemirror_mode": {
    "name": "ipython",
    "version": 3
   },
   "file_extension": ".py",
   "mimetype": "text/x-python",
   "name": "python",
   "nbconvert_exporter": "python",
   "pygments_lexer": "ipython3",
   "version": "3.9.5"
  }
 },
 "nbformat": 4,
 "nbformat_minor": 5
}
