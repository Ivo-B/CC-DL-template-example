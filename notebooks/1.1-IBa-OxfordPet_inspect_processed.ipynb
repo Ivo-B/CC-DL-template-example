{
 "cells": [
  {
   "cell_type": "code",
   "execution_count": 1,
   "id": "143199cd",
   "metadata": {
    "pycharm": {
     "name": "#%%\n"
    }
   },
   "outputs": [],
   "source": [
    "\"\"\"Oxford Pet handwritten digits dataset.\n",
    "\n",
    "\"\"\"\n",
    "import os\n",
    "from pathlib import Path\n",
    "import matplotlib.pyplot as plt\n",
    "import numpy as np\n",
    "from dotenv import find_dotenv, load_dotenv\n",
    "\n",
    "load_dotenv(find_dotenv())\n",
    "\n",
    "def display_image_grid(images_filenames, images_directory, masks_directory, predicted_masks=None):\n",
    "    cols = 3 if predicted_masks else 2\n",
    "    rows = len(images_filenames)\n",
    "    figure, ax = plt.subplots(nrows=rows, ncols=cols, figsize=(10, 24))\n",
    "    for i, image_filename in enumerate(images_filenames):\n",
    "        image = np.load(os.path.join(images_directory, image_filename))\n",
    "        mask = np.load(os.path.join(masks_directory, image_filename))\n",
    "        print(mask.max())\n",
    "        ax[i, 0].imshow(image)\n",
    "        ax[i, 1].imshow(mask, interpolation=\"nearest\")\n",
    "\n",
    "        ax[i, 0].set_title(\"Image\")\n",
    "        ax[i, 1].set_title(\"Ground truth mask\")\n",
    "\n",
    "        ax[i, 0].set_axis_off()\n",
    "        ax[i, 1].set_axis_off()\n",
    "\n",
    "        if predicted_masks:\n",
    "            predicted_mask = predicted_masks[i]\n",
    "            ax[i, 2].imshow(predicted_mask, interpolation=\"nearest\")\n",
    "            ax[i, 2].set_title(\"Predicted mask\")\n",
    "            ax[i, 2].set_axis_off()\n",
    "    plt.tight_layout()\n",
    "    plt.show()"
   ]
  },
  {
   "cell_type": "code",
   "execution_count": 2,
   "id": "06c8ea1c",
   "metadata": {
    "pycharm": {
     "name": "#%%\n"
    }
   },
   "outputs": [],
   "source": [
    "path = Path(os.environ.get('PROJECT_DIR')) / 'data'\n",
    "images_filenames = []\n",
    "with open(path / 'OxfordPet_training_data.txt', 'r') as file_stream:\n",
    "    for line in file_stream.readlines():\n",
    "        file_name, _ = line.split(',')\n",
    "        images_filenames.append(file_name)\n",
    "        if len(images_filenames) >= 8:\n",
    "            break"
   ]
  },
  {
   "cell_type": "code",
   "execution_count": null,
   "id": "9458ef2a",
   "metadata": {
    "pycharm": {
     "name": "#%%\n"
    },
    "scrolled": false
   },
   "outputs": [],
   "source": [
    "display_image_grid(images_filenames, path / 'processed/oxford-pet/images', path / 'processed/oxford-pet/masks')"
   ]
  },
  {
   "cell_type": "code",
   "execution_count": null,
   "id": "b417c101",
   "metadata": {
    "pycharm": {
     "name": "#%%\n"
    }
   },
   "outputs": [],
   "source": []
  }
 ],
 "metadata": {
  "kernelspec": {
   "display_name": "Python 3 (ipykernel)",
   "language": "python",
   "name": "python3"
  },
  "language_info": {
   "codemirror_mode": {
    "name": "ipython",
    "version": 3
   },
   "file_extension": ".py",
   "mimetype": "text/x-python",
   "name": "python",
   "nbconvert_exporter": "python",
   "pygments_lexer": "ipython3",
   "version": "3.9.5"
  }
 },
 "nbformat": 4,
 "nbformat_minor": 5
}
